{
 "cells": [
  {
   "cell_type": "markdown",
   "metadata": {},
   "source": [
    "## Data import and setting workspace"
   ]
  },
  {
   "cell_type": "code",
   "execution_count": null,
   "metadata": {},
   "outputs": [],
   "source": [
    "import arcpy\n",
    "from arcpy import env\n",
    "import os\n",
    "from arcpy.sa import *"
   ]
  },
  {
   "cell_type": "code",
   "execution_count": null,
   "metadata": {},
   "outputs": [],
   "source": [
    "# Set local variable\n",
    "arcpy.env.workspace = r\"C:\\EsriTraining\\wetland_analysis\"\n",
    "arcpy.env.overwriteOutput = True\n",
    "\n",
    "# Create FileGDB\n",
    "arcpy.management.CreateFileGDB(\n",
    "    out_folder_path=r\"C:\\EsriTraining\\wetland_analysis\",\n",
    "    out_name=\"project644\",\n",
    "    out_version=\"CURRENT\"\n",
    ")"
   ]
  },
  {
   "cell_type": "code",
   "execution_count": null,
   "metadata": {},
   "outputs": [],
   "source": [
    "# Set output geodatabase\n",
    "out_gdb = r\"C:\\EsriTraining\\wetland_analysis\\project644.gdb\"\n",
    "\n",
    "# Get list of shapefiles in workspace\n",
    "featureclasses = arcpy.ListFeatureClasses()\n",
    "#print(featureclasses)\n",
    "\n",
    "# Loop through each shapefile and project to out_gdb\n",
    "for shapefile in featureclasses:\n",
    "    # Set input shapefile path\n",
    "    in_shapefile = os.path.join(arcpy.env.workspace, shapefile)\n",
    "    \n",
    "    # Set output feature class name\n",
    "    out_feature_class = os.path.join(out_gdb, f\"{os.path.splitext(shapefile)[0]}_prj\")\n",
    "    \n",
    "    # Project shapefile to out_gdb\n",
    "    arcpy.management.Project(\n",
    "        in_dataset=in_shapefile,\n",
    "        out_dataset=out_feature_class,\n",
    "        out_coor_system='PROJCS[\"WGS_1984_Web_Mercator_Auxiliary_Sphere\",GEOGCS[\"GCS_WGS_1984\",DATUM[\"D_WGS_1984\",SPHEROID[\"WGS_1984\",6378137.0,298.257223563]],PRIMEM[\"Greenwich\",0.0],UNIT[\"Degree\",0.0174532925199433]],PROJECTION[\"Mercator_Auxiliary_Sphere\"],PARAMETER[\"False_Easting\",0.0],PARAMETER[\"False_Northing\",0.0],PARAMETER[\"Central_Meridian\",0.0],PARAMETER[\"Standard_Parallel_1\",0.0],PARAMETER[\"Auxiliary_Sphere_Type\",0.0],UNIT[\"Meter\",1.0]]',\n",
    "        transform_method=None,\n",
    "        in_coor_system='PROJCS[\"WGS_1984_Web_Mercator_Auxiliary_Sphere\",GEOGCS[\"GCS_WGS_1984\",DATUM[\"D_WGS_1984\",SPHEROID[\"WGS_1984\",6378137.0,298.257223563]],PRIMEM[\"Greenwich\",0.0],UNIT[\"Degree\",0.0174532925199433]],PROJECTION[\"Mercator_Auxiliary_Sphere\"],PARAMETER[\"False_Easting\",0.0],PARAMETER[\"False_Northing\",0.0],PARAMETER[\"Central_Meridian\",0.0],PARAMETER[\"Standard_Parallel_1\",0.0],PARAMETER[\"Auxiliary_Sphere_Type\",0.0],UNIT[\"Meter\",1.0]]',\n",
    "        preserve_shape=\"NO_PRESERVE_SHAPE\",\n",
    "        max_deviation=None,\n",
    "        vertical=\"NO_VERTICAL\"\n",
    "    )\n",
    "    \n",
    "# Create bounding box from polygon\n",
    "env.workspace = r\"C:\\EsriTraining\\wetland_analysis\\project644.gdb\"\n",
    "\n",
    "# Create variables for the input and output feature classes\n",
    "inFeatures = \"aoi_boundary_prj\"\n",
    "outFeatureClass = \"bbox\"\n",
    "\n",
    "# Use MinimumBoundingGeometry function to get a bbox area \n",
    "arcpy.MinimumBoundingGeometry_management(inFeatures, outFeatureClass, \n",
    "                                         \"ENVELOPE\", \"NONE\")"
   ]
  },
  {
   "cell_type": "code",
   "execution_count": null,
   "metadata": {},
   "outputs": [],
   "source": [
    "## Project all rasters files \n",
    "input_folder = r\"C:\\EsriTraining\\wetland_analysis\\naip\"\n",
    "output_folder = r\"C:\\EsriTraining\\wetland_analysis\\projected\"\n",
    "\n",
    "# Set output coordinate system\n",
    "out_coor_system = 'PROJCS[\"WGS_1984_Web_Mercator_Auxiliary_Sphere\",GEOGCS[\"GCS_WGS_1984\",DATUM[\"D_WGS_1984\",SPHEROID[\"WGS_1984\",6378137.0,298.257223563]],PRIMEM[\"Greenwich\",0.0],UNIT[\"Degree\",0.0174532925199433]],PROJECTION[\"Mercator_Auxiliary_Sphere\"],PARAMETER[\"False_Easting\",0.0],PARAMETER[\"False_Northing\",0.0],PARAMETER[\"Central_Meridian\",0.0],PARAMETER[\"Standard_Parallel_1\",0.0],PARAMETER[\"Auxiliary_Sphere_Type\",0.0],UNIT[\"Meter\",1.0]]'\n",
    "\n",
    "# Set other parameters\n",
    "resampling_type = \"NEAREST\"\n",
    "cell_size = \"0.599999999999999 0.600000000000029\"\n",
    "geographic_transform = \"WGS_1984_(ITRF00)_To_NAD_1983\"\n",
    "registration_point = None\n",
    "in_coor_system = 'PROJCS[\"NAD_1983_UTM_Zone_17N\",GEOGCS[\"GCS_North_American_1983\",DATUM[\"D_North_American_1983\",SPHEROID[\"GRS_1980\",6378137.0,298.257222101]],PRIMEM[\"Greenwich\",0.0],UNIT[\"Degree\",0.0174532925199433]],PROJECTION[\"Transverse_Mercator\"],PARAMETER[\"False_Easting\",500000.0],PARAMETER[\"False_Northing\",0.0],PARAMETER[\"Central_Meridian\",-81.0],PARAMETER[\"Scale_Factor\",0.9996],PARAMETER[\"Latitude_Of_Origin\",0.0],UNIT[\"Meter\",1.0]]'\n",
    "vertical = \"NO_VERTICAL\"\n",
    "\n",
    "# Iterate through all files in input folder\n",
    "for filename in os.listdir(input_folder):\n",
    "    if filename.endswith('.tif'):  # Only process TIFF files\n",
    "        # Set input and output paths\n",
    "        in_raster = os.path.join(input_folder, filename)\n",
    "        out_raster = os.path.join(output_folder, filename[20:-4]) + \".tif\"\n",
    "        \n",
    "        # Project raster\n",
    "        arcpy.management.ProjectRaster(in_raster, out_raster, out_coor_system, resampling_type, cell_size, geographic_transform, registration_point, in_coor_system, vertical)"
   ]
  },
  {
   "cell_type": "markdown",
   "metadata": {},
   "source": [
    "## Clip & NDVI analysis "
   ]
  },
  {
   "cell_type": "code",
   "execution_count": null,
   "metadata": {},
   "outputs": [],
   "source": [
    "# set workspace\n",
    "arcpy.env.workspace = r\"C:\\EsriTraining\\wetland_analysis\\projected\"\n",
    "workspace = arcpy.env.workspace\n",
    "\n",
    "# Set output folder\n",
    "output_folder = os.path.join(workspace, \"clip\")\n",
    "if not os.path.exists(output_folder):\n",
    "    os.makedirs(output_folder)\n",
    "\n",
    "# Creating bounding box for aoi (minimum boundary geometry)\n",
    "boundary_layer = r\"C:\\EsriTraining\\wetland_analysis\\project644.gdb\\aoi_boundary_prj\"\n",
    "boundary_desc = arcpy.Describe(boundary_layer)\n",
    "analysis_extent = boundary_desc.extent\n",
    "\n",
    "# loop through raster files and clip\n",
    "raster_list = arcpy.ListRasters(\"*\", \"TIF\")\n",
    "for raster in raster_list:\n",
    "    # set input and output paths\n",
    "    in_raster = os.path.join(workspace, raster)\n",
    "    out_raster = os.path.join(output_folder, \"clipped_\" + raster[:-4] + \".tif\")\n",
    "\n",
    "    # clip raster\n",
    "    out_clip = arcpy.sa.ExtractByMask(in_raster, boundary_layer)\n",
    "    out_clip = arcpy.sa.ExtractByRectangle(out_clip, analysis_extent)\n",
    "    out_clip.save(out_raster)\n",
    "    \n",
    "    print(f\"{out_raster} clipped successfully!\")"
   ]
  },
  {
   "cell_type": "code",
   "execution_count": null,
   "metadata": {},
   "outputs": [],
   "source": [
    "output_folder = r\"C:\\EsriTraining\\wetland_analysis\\ndvi\"\n",
    "if not os.path.exists(output_folder):\n",
    "    os.makedirs(output_folder)\n",
    "\n",
    "arcpy.env.workspace = r\"C:\\EsriTraining\\wetland_analysis\\projected\\clip\"\n",
    "workspace = arcpy.env.workspace\n",
    "\n",
    "raster_list = arcpy.ListRasters(\"*\", \"TIF\")\n",
    "for raster in raster_list:\n",
    "    in_raster = os.path.join(arcpy.env.workspace, raster)\n",
    "    out_raster = os.path.join(output_folder, \"ndvi_\" + raster[:-4] + \".tif\")\n",
    "    \n",
    "    red_band = Raster(in_raster + \"/Band_1\")\n",
    "    nir_band = Raster(in_raster + \"/Band_4\")\n",
    "    ndvi = (nir_band - red_band) / (nir_band + red_band)\n",
    "        \n",
    "    # Save the NDVI output to the output folder\n",
    "    ndvi.save(out_raster)\n",
    "    \n",
    "    print(f\"{out_raster} calculated successfully!\")"
   ]
  },
  {
   "cell_type": "markdown",
   "metadata": {},
   "source": [
    "## Animate rasters"
   ]
  },
  {
   "cell_type": "code",
   "execution_count": null,
   "metadata": {},
   "outputs": [],
   "source": [
    "import os\n",
    "import imageio\n",
    "import imageio.v2 as imageio\n",
    "import numpy as np\n",
    "import geopandas as gpd\n",
    "import pandas as pd\n",
    "import matplotlib\n",
    "import matplotlib.pyplot as plt\n",
    "import matplotlib.pyplot as mplot\n",
    "import matplotlib.image as mpimg\n",
    "import matplotlib.colors as colors\n",
    "from matplotlib.colors import ListedColormap\n",
    "import rasterio\n",
    "from rasterio.plot import show, show_hist"
   ]
  },
  {
   "cell_type": "code",
   "execution_count": null,
   "metadata": {},
   "outputs": [],
   "source": [
    "inDir = r'C:\\EsriTraining\\wetland_analysis\\ndvi'\n",
    "os.chdir(inDir)\n",
    "outDir = os.path.normpath(os.path.split(inDir)[0]+os.sep+'animation')\n",
    "if not os.path.exists(outDir):\n",
    "    os.makedirs(outDir)"
   ]
  },
  {
   "cell_type": "code",
   "execution_count": null,
   "metadata": {},
   "outputs": [],
   "source": [
    "fileList = [file for file in os.listdir() if file.endswith('.tif')]\n",
    "for i, f in enumerate(fileList):\n",
    "    lcpri_file = rasterio.open(f)\n",
    "    lcpri = lcpri_file.read(1)\n",
    "    \n",
    "    cmap = \"YlGn\"\n",
    "    cmap_reversed = matplotlib.cm.get_cmap('YlGn_r')\n",
    "    plt.figure(figsize=(20,15))\n",
    "    plt.imshow(lcpri, cmap=cmap, vmax=0.5, vmin=-0.5)\n",
    "    parts = f.split(\"_\")\n",
    "    fileName = parts[-1][:-4]\n",
    "    print('Processing: {}'.format(fileName))\n",
    "    plt.title('NDVI' + ' ' + fileName, fontsize=25)\n",
    "    cur_axes = plt.gca()\n",
    "    cur_axes.axes.get_xaxis().set_visible(False)\n",
    "    cur_axes.axes.get_yaxis().set_visible(False)\n",
    "    cb = plt.colorbar()\n",
    "    cb.set_label('NDVI Time Series', size=20)\n",
    "    cb.ax.tick_params(labelsize=18)\n",
    "    plt.tight_layout()\n",
    "    plt.savefig(os.path.join(outDir, '{}_NDVI_{}.png'.format(fileName, i)), dpi=150)\n",
    "    plt.close()"
   ]
  },
  {
   "cell_type": "code",
   "execution_count": null,
   "metadata": {},
   "outputs": [],
   "source": [
    "def make_gif(input_folder, save_filepath):\n",
    "    episode_frames = []\n",
    "    time_per_step = 0.30\n",
    "    for root, _, files in os.walk(input_folder):\n",
    "        file_paths = [os.path.join(root, file) for file in files]\n",
    "        file_paths = sorted(file_paths, key = lambda x:os.path.getmtime(x))\n",
    "        episode_frames = [imageio.imread(file_path)\n",
    "                            for file_path in file_paths if file_path.endswith('.png')]\n",
    "        episode_frames = np.array(episode_frames)\n",
    "        imageio.mimsave(save_filepath,episode_frames,duration=time_per_step)\n",
    "make_gif(outDir, os.path.join(outDir, \"NDVI_Animation.gif\"))\n",
    "print(\"Create animation !!!\")"
   ]
  },
  {
   "cell_type": "code",
   "execution_count": null,
   "metadata": {},
   "outputs": [],
   "source": [
    "from IPython.display import Image, display\n",
    "with open(r'C:\\EsriTraining\\wetland_analysis\\animation\\NDVI_Animation.gif', 'rb') as f:\n",
    "    display(Image(data=f.read(), format = 'png'))"
   ]
  }
 ],
 "metadata": {
  "kernelspec": {
   "display_name": "ArcGISPro",
   "language": "Python",
   "name": "python3"
  },
  "language_info": {
   "file_extension": ".py",
   "name": "python",
   "version": "3"
  },
  "toc": {
   "base_numbering": 1,
   "nav_menu": {},
   "number_sections": true,
   "sideBar": true,
   "skip_h1_title": false,
   "title_cell": "Table of Contents",
   "title_sidebar": "Contents",
   "toc_cell": false,
   "toc_position": {},
   "toc_section_display": true,
   "toc_window_display": false
  }
 },
 "nbformat": 4,
 "nbformat_minor": 2
}
